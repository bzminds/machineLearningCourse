{
 "cells": [
  {
   "cell_type": "markdown",
   "metadata": {
    "_cell_guid": "d0fff099-32b4-4d5f-94f2-dc957e8d7b58",
    "_uuid": "0a7336426503aa654b923d813483e106306716f9"
   },
   "source": [
    "# Week 1 - The What Why and when of Machine Learning\n",
    "Main idea is to follow that notebook in order to have an initial aproach -  this doesn't means that you only have to answer to the questions or implement code. Feel free to add all the interesting content that you find and take conclusions from the data. Please just use this as a template"
   ]
  },
  {
   "cell_type": "markdown",
   "metadata": {},
   "source": [
    "# 0. Library import and list input files"
   ]
  },
  {
   "cell_type": "code",
   "execution_count": 1,
   "metadata": {
    "_cell_guid": "a4c3c51c-f465-4cfc-913a-ee1225e57724",
    "_uuid": "15592da27c5f06e6ab4fb0a293a851cc8489453b",
    "collapsed": true
   },
   "outputs": [],
   "source": [
    "import sys\n",
    "import numpy as np # linear algebra\n",
    "import pandas as pd # data processing, CSV file I/O (e.g. pd.read_csv)\n",
    "import random\n",
    "import matplotlib.pyplot as plt\n",
    "import seaborn as sns\n",
    "import sys\n",
    "\n",
    "#Pandas more columns\n",
    "pd.options.display.max_columns = None\n",
    "pd.set_option('display.max_columns', None)\n",
    "\n",
    "# Add input as import path\n",
    "sys.path.insert(0,'../input')\n",
    "\n",
    "# Plot style\n",
    "plt.style.use('fivethirtyeight')\n",
    "\n",
    "# Input data files are available in the \"../input/\" directory. Only linux\n",
    "# from subprocess import check_output\n",
    "# print(check_output([\"ls\", \"../input\"]).decode(\"utf8\"))\n"
   ]
  },
  {
   "cell_type": "markdown",
   "metadata": {
    "_cell_guid": "d96be262-1ded-4cd3-9193-03d7dc0b86bb",
    "_uuid": "823783aab011b613db23022d071be8684faa60e0"
   },
   "source": [
    "# 1. Data import and first impressions"
   ]
  },
  {
   "cell_type": "markdown",
   "metadata": {
    "_cell_guid": "b764727f-3455-4d7b-8eac-101b52644cf4",
    "_uuid": "028fec15cf0c5f625c122db5e726c9e6f1073905"
   },
   "source": [
    "### 1.1 Load dataset and have an overview.\n",
    "Objectives:\n",
    "* Load the data\n",
    "* Understand the data\n",
    "\n",
    "Questions:\n",
    "* Q1: How many people in your training set have survived the Titanic disaster?\n",
    "* Q2: How many samples we have?\n",
    "* Q3: Average age.\n"
   ]
  },
  {
   "cell_type": "code",
   "execution_count": 2,
   "metadata": {
    "_cell_guid": "ac3cbd95-2242-4251-90ca-dd65c34e17b3",
    "_uuid": "6745659346d0b3d3a9b6424ce123307f20be533f",
    "scrolled": true
   },
   "outputs": [
    {
     "name": "stdout",
     "output_type": "stream",
     "text": [
      "      pclass  survived                                               name  \\\n",
      "id                                                                          \n",
      "277        1         1     Spencer, Mrs. William Augustus (Marie Eugenie)   \n",
      "562        2         1                          Slayter, Miss. Hilda Mary   \n",
      "111        1         1                     Fortune, Miss. Alice Elizabeth   \n",
      "930        3         0                                Kiernan, Mr. Philip   \n",
      "841        3         0                               Hagardon, Miss. Kate   \n",
      "585        2         0                                 Weisz, Mr. Leopold   \n",
      "609        3         0                                    Adams, Mr. John   \n",
      "540        2         1                           Quick, Miss. Phyllis May   \n",
      "1075       3         0                             Odahl, Mr. Nils Martin   \n",
      "390        2         0                          Deacon, Mr. Percy William   \n",
      "921        3         0                                  Keefe, Mr. Arthur   \n",
      "339        2         1                          Becker, Master. Richard F   \n",
      "155        1         1  Hays, Mrs. Charles Melville (Clara Jennings Gr...   \n",
      "564        2         1                          Smith, Miss. Marion Elsie   \n",
      "694        3         0                                Burke, Mr. Jeremiah   \n",
      "1028       3         1                                Moran, Miss. Bertha   \n",
      "1184       3         0                                  Samaan, Mr. Elias   \n",
      "633        3         0                         Andreasson, Mr. Paul Edvin   \n",
      "907        3         0                            Jussila, Miss. Katriina   \n",
      "426        2         0                                 Hale, Mr. Reginald   \n",
      "1210       3         0                                 Skoog, Mr. Wilhelm   \n",
      "257        1         1                    Schabert, Mrs. Paul (Emma Mock)   \n",
      "474        2         0             Kvillner, Mr. Johan Henrik Johannesson   \n",
      "439        2         0                                 Herman, Mr. Samuel   \n",
      "9          1         0                            Artagaveytia, Mr. Ramon   \n",
      "948        3         0                                  Lane, Mr. Patrick   \n",
      "762        3         1                         Dean, Master. Bertram Vere   \n",
      "802        3         0                                    Flynn, Mr. John   \n",
      "482        2         1                              Lehmann, Miss. Bertha   \n",
      "893        3         0                                Johansson, Mr. Nils   \n",
      "...      ...       ...                                                ...   \n",
      "408        2         0                      Fillbrook, Mr. Joseph Charles   \n",
      "87         1         1                        Daniel, Mr. Robert Williams   \n",
      "810        3         0                             Ford, Mr. William Neal   \n",
      "276        1         0                      Spencer, Mr. William Augustus   \n",
      "751        3         0                              Dantcheff, Mr. Ristiu   \n",
      "550        2         1              Richards, Mrs. Sidney (Emily Hocking)   \n",
      "231        1         1                     Peuchen, Major. Arthur Godfrey   \n",
      "879        3         0                                 Ivanoff, Mr. Kanio   \n",
      "896        3         0                                Johnson, Mr. Alfred   \n",
      "835        3         0                                  Guest, Mr. Robert   \n",
      "752        3         0                               Davies, Mr. Alfred J   \n",
      "984        3         1                   Madigan, Miss. Margaret \"Maggie\"   \n",
      "163        1         1  Holverson, Mrs. Alexander Oskar (Mary Aline To...   \n",
      "1063       3         0                     Nirva, Mr. Iisakki Antino Aijo   \n",
      "29         1         1          Bjornstrom-Steffansson, Mr. Mauritz Hakan   \n",
      "200        1         0                       McCaffry, Mr. Thomas Francis   \n",
      "285        1         0                                 Straus, Mr. Isidor   \n",
      "1267       3         0  Van Impe, Mrs. Jean Baptiste (Rosalie Paula Go...   \n",
      "783        3         1                               Duquemin, Mr. Joseph   \n",
      "1074       3         0                              O'Connor, Mr. Patrick   \n",
      "1087       3         0                   Olsson, Mr. Nils Johan Goransson   \n",
      "982        3         0                              Lyntakoff, Mr. Stanko   \n",
      "677        3         0                          Bostandyeff, Mr. Guentcho   \n",
      "977        3         0                    Lovell, Mr. John Hall (\"Henry\")   \n",
      "35         1         1                           Bowen, Miss. Grace Scott   \n",
      "626        3         0             Andersson, Miss. Ida Augusta Margareta   \n",
      "640        3         0              Asplund, Master. Clarence Gustaf Hugo   \n",
      "845        3         1  Hakkarainen, Mrs. Pekka Pietari (Elin Matilda ...   \n",
      "1291       3         0                   Willer, Mr. Aaron (\"Abi Weller\")   \n",
      "639        3         0                        Asplund, Master. Carl Edgar   \n",
      "\n",
      "      gender   age  sibsp  parch            ticket      fare        cabin  \\\n",
      "id                                                                          \n",
      "277   female   NaN      1      0          PC 17569  146.5208          B78   \n",
      "562   female  30.0      0      0            234818   12.3500          NaN   \n",
      "111   female  24.0      3      2             19950  263.0000  C23 C25 C27   \n",
      "930     male   NaN      1      0            367229    7.7500          NaN   \n",
      "841   female  17.0      0      0       AQ/3. 30631    7.7333          NaN   \n",
      "585     male  27.0      1      0            228414   26.0000          NaN   \n",
      "609     male  26.0      0      0            341826    8.0500          NaN   \n",
      "540   female   2.0      1      1             26360   26.0000          NaN   \n",
      "1075    male  23.0      0      0              7267    9.2250          NaN   \n",
      "390     male  17.0      0      0      S.O.C. 14879   73.5000          NaN   \n",
      "921     male   NaN      0      0            323592    7.2500          NaN   \n",
      "339     male   1.0      2      1            230136   39.0000           F4   \n",
      "155   female  52.0      1      1             12749   93.5000          B69   \n",
      "564   female  40.0      0      0             31418   13.0000          NaN   \n",
      "694     male  19.0      0      0            365222    6.7500          NaN   \n",
      "1028  female   NaN      1      0            371110   24.1500          NaN   \n",
      "1184    male   NaN      2      0              2662   21.6792          NaN   \n",
      "633     male  20.0      0      0            347466    7.8542          NaN   \n",
      "907   female  20.0      1      0              4136    9.8250          NaN   \n",
      "426     male  30.0      0      0            250653   13.0000          NaN   \n",
      "1210    male  40.0      1      4            347088   27.9000          NaN   \n",
      "257   female  35.0      1      0             13236   57.7500          C28   \n",
      "474     male  31.0      0      0        C.A. 18723   10.5000          NaN   \n",
      "439     male  49.0      1      2            220845   65.0000          NaN   \n",
      "9       male  71.0      0      0          PC 17609   49.5042          NaN   \n",
      "948     male   NaN      0      0              7935    7.7500          NaN   \n",
      "762     male   1.0      1      2         C.A. 2315   20.5750          NaN   \n",
      "802     male   NaN      0      0            368323    6.9500          NaN   \n",
      "482   female  17.0      0      0           SC 1748   12.0000          NaN   \n",
      "893     male  29.0      0      0            347467    7.8542          NaN   \n",
      "...      ...   ...    ...    ...               ...       ...          ...   \n",
      "408     male  18.0      0      0        C.A. 15185   10.5000          NaN   \n",
      "87      male  27.0      0      0            113804   30.5000          NaN   \n",
      "810     male  16.0      1      3        W./C. 6608   34.3750          NaN   \n",
      "276     male  57.0      1      0          PC 17569  146.5208          B78   \n",
      "751     male  25.0      0      0            349203    7.8958          NaN   \n",
      "550   female  24.0      2      3             29106   18.7500          NaN   \n",
      "231     male  52.0      0      0            113786   30.5000         C104   \n",
      "879     male   NaN      0      0            349201    7.8958          NaN   \n",
      "896     male  49.0      0      0              LINE    0.0000          NaN   \n",
      "835     male   NaN      0      0            376563    8.0500          NaN   \n",
      "752     male  24.0      2      0         A/4 48871   24.1500          NaN   \n",
      "984   female   NaN      0      0            370370    7.7500          NaN   \n",
      "163   female  35.0      1      0            113789   52.0000          NaN   \n",
      "1063    male  41.0      0      0  SOTON/O2 3101272    7.1250          NaN   \n",
      "29      male  28.0      0      0            110564   26.5500          C52   \n",
      "200     male  46.0      0      0             13050   75.2417           C6   \n",
      "285     male  67.0      1      0          PC 17483  221.7792      C55 C57   \n",
      "1267  female  30.0      1      1            345773   24.1500          NaN   \n",
      "783     male  24.0      0      0     S.O./P.P. 752    7.5500          NaN   \n",
      "1074    male   NaN      0      0            366713    7.7500          NaN   \n",
      "1087    male  28.0      0      0            347464    7.8542          NaN   \n",
      "982     male   NaN      0      0            349235    7.8958          NaN   \n",
      "677     male  26.0      0      0            349224    7.8958          NaN   \n",
      "977     male  20.5      0      0         A/5 21173    7.2500          NaN   \n",
      "35    female  45.0      0      0          PC 17608  262.3750          NaN   \n",
      "626   female  38.0      4      2            347091    7.7750          NaN   \n",
      "640     male   9.0      4      2            347077   31.3875          NaN   \n",
      "845   female  24.0      1      0  STON/O2. 3101279   15.8500          NaN   \n",
      "1291    male   NaN      0      0              3410    8.7125          NaN   \n",
      "639     male   5.0      4      2            347077   31.3875          NaN   \n",
      "\n",
      "     embarked boat   body                                  home.dest  \n",
      "id                                                                    \n",
      "277         C    6    NaN                              Paris, France  \n",
      "562         Q   13    NaN                                Halifax, NS  \n",
      "111         S   10    NaN                               Winnipeg, MB  \n",
      "930         Q  NaN    NaN                                        NaN  \n",
      "841         Q  NaN    NaN                                        NaN  \n",
      "585         S  NaN  293.0         Bromsgrove, England / Montreal, PQ  \n",
      "609         S  NaN  103.0                       Bournemouth, England  \n",
      "540         S   11    NaN              Plymouth, Devon / Detroit, MI  \n",
      "1075        S  NaN    NaN                                        NaN  \n",
      "390         S  NaN    NaN                                        NaN  \n",
      "921         S    A    NaN                                        NaN  \n",
      "339         S   11    NaN         Guntur, India / Benton Harbour, MI  \n",
      "155         S    3    NaN                               Montreal, PQ  \n",
      "564         S    9    NaN                                        NaN  \n",
      "694         Q  NaN    NaN           Co Cork, Ireland Charlestown, MA  \n",
      "1028        Q   16    NaN                                        NaN  \n",
      "1184        C  NaN    NaN                                        NaN  \n",
      "633         S  NaN    NaN                         Sweden Chicago, IL  \n",
      "907         S  NaN    NaN                                        NaN  \n",
      "426         S  NaN   75.0                                 Auburn, NY  \n",
      "1210        S  NaN    NaN                                        NaN  \n",
      "257         C   11    NaN                               New York, NY  \n",
      "474         S  NaN  165.0                     Sweden / Arlington, NJ  \n",
      "439         S  NaN    NaN               Somerset / Bernardsville, NJ  \n",
      "9           C  NaN   22.0                        Montevideo, Uruguay  \n",
      "948         Q  NaN    NaN                                        NaN  \n",
      "762         S   10    NaN                 Devon, England Wichita, KS  \n",
      "802         Q  NaN    NaN                                        NaN  \n",
      "482         C   12    NaN      Berne, Switzerland / Central City, IA  \n",
      "893         S  NaN    NaN                                        NaN  \n",
      "...       ...  ...    ...                                        ...  \n",
      "408         S  NaN    NaN                    Cornwall / Houghton, MI  \n",
      "87          S    3    NaN                           Philadelphia, PA  \n",
      "810         S  NaN    NaN  Rotherfield, Sussex, England Essex Co, MA  \n",
      "276         C  NaN    NaN                              Paris, France  \n",
      "751         S  NaN    NaN                       Bulgaria Chicago, IL  \n",
      "550         S    4    NaN                       Cornwall / Akron, OH  \n",
      "231         S    6    NaN                                Toronto, ON  \n",
      "879         S  NaN    NaN                                        NaN  \n",
      "896         S  NaN    NaN                                        NaN  \n",
      "835         S  NaN    NaN                                        NaN  \n",
      "752         S  NaN    NaN         West Bromwich, England Pontiac, MI  \n",
      "984         Q   15    NaN                                        NaN  \n",
      "163         S    8    NaN                               New York, NY  \n",
      "1063        S  NaN    NaN                        Finland Sudbury, ON  \n",
      "29          S    D    NaN         Stockholm, Sweden / Washington, DC  \n",
      "200         C  NaN  292.0                              Vancouver, BC  \n",
      "285         S  NaN   96.0                               New York, NY  \n",
      "1267        S  NaN    NaN                                        NaN  \n",
      "783         S    D    NaN                         England Albion, NY  \n",
      "1074        Q  NaN    NaN                                        NaN  \n",
      "1087        S  NaN    NaN                                        NaN  \n",
      "982         S  NaN    NaN                                        NaN  \n",
      "677         S  NaN    NaN                       Bulgaria Chicago, IL  \n",
      "977         S  NaN    NaN                                        NaN  \n",
      "35          C    4    NaN                            Cooperstown, NY  \n",
      "626         S  NaN    NaN               Vadsbro, Sweden Ministee, MI  \n",
      "640         S  NaN    NaN                       Sweden Worcester, MA  \n",
      "845         S   15    NaN                                        NaN  \n",
      "1291        S  NaN    NaN                                        NaN  \n",
      "639         S  NaN    NaN                      Sweden  Worcester, MA  \n",
      "\n",
      "[654 rows x 14 columns]\n",
      "Survivors:  254\n",
      "Total samples:  654\n",
      "Average age:  29.566276803118907\n"
     ]
    }
   ],
   "source": [
    "# Import the data from the dataset\n",
    "train_data = pd.read_csv('../input/train.csv',index_col='id')\n",
    "test_data = pd.read_csv('../input/test.csv',index_col='id')\n",
    "# display(train_data)\n",
    "\n",
    "# ToDO 1: Show the fist n entries of the table\n",
    "# n = random.randint(1,9)\n",
    "n = 5\n",
    "# print(train_data[0:n])\n",
    "# ToDo 2: Rename the attributes with a fancy name\n",
    "# train_data = train_data.rename({'sex':'gender'}, axis='columns') <-- Why not this one?\n",
    "train_data = train_data.rename(index=str, columns={'sex':'gender'})\n",
    "print(train_data)\n",
    "# Todo 3: Questions\n",
    "\n",
    "# Q1: How many people in your training set have survived the Titanic disaster?\n",
    "# print(train_data[train_data['survived']==1])\n",
    "print(\"Survivors: \", train_data['survived'].value_counts()[1])\n",
    "# Q2: How many samples we have?\n",
    "print(\"Total samples: \", train_data.shape[0])\n",
    "# Q3: Average age.\n",
    "# print(\"Average age: \", train_data.age.dropna(axis=0, how='all'))\n",
    "print(\"Average age: \", train_data.age.mean(skipna=True))"
   ]
  },
  {
   "cell_type": "markdown",
   "metadata": {
    "_cell_guid": "9242a038-33c8-4c6c-aead-2c158e44a235",
    "_uuid": "0397e081ac05df2d7a0aedd22538f75925a85ea5"
   },
   "source": [
    "### 1.2 Plot the data\n",
    "Objectives:\n",
    "\n",
    "* Divide the features in two categories: numerical and categorical.\n",
    "* Represent each one of the features with one plot.\n",
    "* Create a new boolean feature named Child that the defines if the passenger is a kid or not.\n",
    "\n",
    "Notes:\n",
    "\n",
    "Try to show multiple plots using the :\n",
    "```\n",
    "fig = plt.figure(figsize=(18,18))\n",
    "sns.distplot(train_data[column].dropna(),ax=plt.subplot(221));\n",
    "```\n",
    "\n"
   ]
  },
  {
   "cell_type": "markdown",
   "metadata": {
    "_cell_guid": "e4f834bf-f5c4-4cab-9604-273f57b3536e",
    "_uuid": "85102196e9d859d0be7bcc637006e657dea6c0a2"
   },
   "source": [
    "#### Numerical\n",
    "Questions:\n",
    "* Q1: How many kids survived to the accident?\n",
    "* Q2: Pclass feature is important?\n",
    "* Q3: Which is the biggest cabin number?\n",
    "* Q4: Which is the proportion depending on the Fare of the passengers?"
   ]
  },
  {
   "cell_type": "code",
   "execution_count": 8,
   "metadata": {
    "_cell_guid": "d517a535-f4c2-4377-80d2-2b51ddda4782",
    "_uuid": "d21fcde6a39dd5c073efab5e9a6e348bdeff2f28",
    "scrolled": true
   },
   "outputs": [
    {
     "data": {
      "image/png": "[encoded data removed]",
      "text/plain": [
       "<matplotlib.figure.Figure at 0x2aa53f5e588>"
      ]
     },
     "metadata": {},
     "output_type": "display_data"
    }
   ],
   "source": [
    "\"\"\"Plot Example\"\"\"\n",
    "# Example Survived/Age\n",
    "sns.distplot(train_data[\"age\"].dropna());\n",
    "# X-axis Label\n",
    "plt.xlabel('Age', fontsize=14);\n",
    "# Y-axis Label\n",
    "plt.ylabel(\"Survived or Not Survived?\", fontsize=14);\n",
    "# Printing Chart\n",
    "plt.show()\n"
   ]
  },
  {
   "cell_type": "code",
   "execution_count": 76,
   "metadata": {},
   "outputs": [
    {
     "name": "stdout",
     "output_type": "stream",
     "text": [
      "Survivor kids:  39\n",
      "\r\n",
      "First Class survival rate:  64.77987421383648\n",
      "Second Class survival rate:  45.51724137931034\n",
      "Third Class survival rate:  24.285714285714285\n"
     ]
    },
    {
     "data": {
      "image/png": "[encoded data removed]",
      "text/plain": [
       "<matplotlib.figure.Figure at 0x2aa54d4c160>"
      ]
     },
     "metadata": {},
     "output_type": "display_data"
    }
   ],
   "source": [
    "# Questions\n",
    "# Q1: How many kids survived to the accident?\n",
    "# We consider 0 to 14 years old\n",
    "print(\"Survivor kids: \", train_data[(train_data['age'] < 15) & (train_data['survived'] == 1)].shape[0])\n",
    "# Q2: Pclass feature is important?\n",
    "# It definitely is, the better the class the more possibilities to survive\n",
    "print(\"\\r\\nFirst Class survival rate: \", ((train_data[(train_data['pclass'] == 1) & (train_data['survived'] == 1)].shape[0]) * 100) / (train_data[(train_data['pclass'] == 1)].shape[0]))\n",
    "print(\"Second Class survival rate: \", ((train_data[(train_data['pclass'] == 2) & (train_data['survived'] == 1)].shape[0]) * 100) / (train_data[(train_data['pclass'] == 2)].shape[0]))\n",
    "print(\"Third Class survival rate: \", ((train_data[(train_data['pclass'] == 3) & (train_data['survived'] == 1)].shape[0]) * 100) / (train_data[(train_data['pclass'] == 3)].shape[0]))\n",
    "\n",
    "# print(\"First Class total: \", (train_data[(train_data['pclass'] == 1)].shape[0]))\n",
    "# print(\"Second Class total: \", (train_data[(train_data['pclass'] == 2)].shape[0]))\n",
    "# print(\"Third Class total: \", (train_data[(train_data['pclass'] == 3)].shape[0]))\n",
    "# print(\"First Class survivors: \", train_data[(train_data['pclass'] == 1) & (train_data['survived'] == 1)].shape[0])\n",
    "# print(\"Second Class survivors: \", train_data[(train_data['pclass'] == 2) & (train_data['survived'] == 1)].shape[0])\n",
    "# print(\"Third Class survivors: \", train_data[(train_data['pclass'] == 3) & (train_data['survived'] == 1)].shape[0])\n",
    "\n",
    "# Q3: Which is the biggest cabin number?\n",
    "# Q4: Which is the proportion depending on the Fare of the passengers?\n",
    "\n",
    "# Example Survived/Age\n",
    "sns.distplot(train_data[\"fare\"].dropna());\n",
    "# sns.countplot(train_data[\"survived\"].dropna());\n",
    "# X-axis Label\n",
    "plt.xlabel('Fare', fontsize=14);\n",
    "# Y-axis Label\n",
    "plt.ylabel(\"Survived\", fontsize=14);\n",
    "# Printing Chart\n",
    "plt.show()"
   ]
  },
  {
   "cell_type": "markdown",
   "metadata": {
    "_cell_guid": "b7ebed9d-269f-4b47-ad7e-c01e0362b335",
    "_uuid": "1536d685891608908143f3f0b91fc2ef2a9d1968"
   },
   "source": [
    "#### Categorical\n",
    "Questions:\n",
    "* Q1:  How many woman/man died?\n",
    "* Q2:  Where did the most people embark?\n",
    "* Q3:  How many johns are in the boat?\n",
    "* Q4:  How many embarked places exist?\n",
    "* Q5:  Name repetitions"
   ]
  },
  {
   "cell_type": "code",
   "execution_count": 67,
   "metadata": {
    "_cell_guid": "165720a2-6f20-48a7-8718-5a0d048d1a3b",
    "_uuid": "6d738bf1792054153a06501f238d5b6a9c2af581"
   },
   "outputs": [
    {
     "name": "stderr",
     "output_type": "stream",
     "text": [
      "No handles with labels found to put in legend.\n"
     ]
    },
    {
     "data": {
      "image/png": "[encoded data removed]",
      "text/plain": [
       "<matplotlib.figure.Figure at 0x2aa5457aeb8>"
      ]
     },
     "metadata": {},
     "output_type": "display_data"
    }
   ],
   "source": [
    "\"\"\"Plot Example\"\"\"\n",
    "ax = sns.countplot(x=\"gender\", data=train_data);\n",
    "# X-axis Label\n",
    "plt.xlabel(\"Sex\", fontsize=14);\n",
    "# Y-axis Label\n",
    "plt.ylabel('Number of occurrences', fontsize=14)\n",
    "# Setting Legend location \n",
    "plt.legend(loc=1);\n",
    "\n",
    "# Add percents over bars\n",
    "# Get heights of our bars\n",
    "height = [p.get_height() if p.get_height()==p.get_height() else 0 for p in ax.patches]\n",
    "# Coun number of bar groups \n",
    "ncol = int(len(height)/2)\n",
    "# Coun total height of groups\n",
    "total = [height[i] + height[i + ncol] for i in range(ncol)] * 2\n",
    "# Loop through bars\n",
    "for i, p in enumerate(ax.patches):   \n",
    "    # Adding percentages   \n",
    "    ax.text(p.get_x()+p.get_width()/2, height[i]*1.01 + 10,\n",
    "        '{:1.0%}'.format(height[i]/float(total[i])), ha=\"center\", size=14) \n",
    "\n",
    "plt.show()\n",
    "    "
   ]
  },
  {
   "cell_type": "code",
   "execution_count": 68,
   "metadata": {},
   "outputs": [
    {
     "name": "stderr",
     "output_type": "stream",
     "text": [
      "No handles with labels found to put in legend.\n"
     ]
    },
    {
     "data": {
      "image/png": "[encoded data removed]",
      "text/plain": [
       "<matplotlib.figure.Figure at 0x2aa54b3cdd8>"
      ]
     },
     "metadata": {},
     "output_type": "display_data"
    }
   ],
   "source": [
    "\"\"\" Your work \"\"\"\n",
    "# Questions\n",
    "# Q1: How many woman/man died?\n",
    "ax = sns.countplot(x=\"gender\", data=train_data);\n",
    "# X-axis Label\n",
    "plt.xlabel(\"Sex\", fontsize=14);\n",
    "# Y-axis Label\n",
    "plt.ylabel('Number of deads', fontsize=14)\n",
    "# Setting Legend location \n",
    "plt.legend(loc=1);\n",
    "\n",
    "# Add percents over bars\n",
    "# Get heights of our bars\n",
    "height = [p.get_height() if p.get_height()==p.get_height() else 0 for p in ax.patches]\n",
    "# Coun number of bar groups \n",
    "ncol = int(len(height)/2)\n",
    "# Coun total height of groups\n",
    "total = [height[i] + height[i + ncol] for i in range(ncol)] * 2\n",
    "# Loop through bars\n",
    "for i, p in enumerate(ax.patches):   \n",
    "    # Adding percentages   \n",
    "    ax.text(p.get_x()+p.get_width()/2, height[i]*1.01 + 10,\n",
    "        '{:1.0%}'.format(height[i]/float(total[i])), ha=\"center\", size=14) \n",
    "\n",
    "plt.show()\n",
    "\n",
    "\n",
    "# Q2: Where did the most people embark?\n",
    "# Q3: How many johns are in the boat?\n",
    "# Q4: How many embarked places exist?\n",
    "# Q5: Name repetitions"
   ]
  },
  {
   "cell_type": "markdown",
   "metadata": {
    "_cell_guid": "85cbde82-ed9f-400c-8ef4-9122990ecec9",
    "_uuid": "aee7e44e49c0a64abe2c99cfb23cd267cea8de53"
   },
   "source": [
    "### 1.3 Fill missing data\n",
    "Objectives:\n",
    "* Think in how to fill missing data\n",
    "    Ex: Missing Embarked can be filled depending on the Fare?\n",
    "*  Discuss the importance of fill the missing data\n"
   ]
  },
  {
   "cell_type": "code",
   "execution_count": null,
   "metadata": {
    "_cell_guid": "0d90097a-41df-4498-97de-7ba950b0943e",
    "_uuid": "9c6997afd3a72b2fe8683120f39e7bd584198fcd",
    "collapsed": true,
    "scrolled": true
   },
   "outputs": [],
   "source": [
    "# ToDo 1: Show the missing data for each feature\n",
    "train_data.info()\n",
    "\n",
    "# ToDo 2: Propose at least one method to fill the missing data of one feature"
   ]
  },
  {
   "cell_type": "markdown",
   "metadata": {
    "_cell_guid": "c4ff0997-d1ba-45b9-ba70-97383462c7ed",
    "_uuid": "2d4b8d3f19f426325a7ddcfc914cd00f1d6461e2"
   },
   "source": [
    "# 2. First prediction"
   ]
  },
  {
   "cell_type": "code",
   "execution_count": null,
   "metadata": {
    "collapsed": true
   },
   "outputs": [],
   "source": [
    "# ToDo 1: Use the gender feature to classify the test_data\n",
    "test_data[\"survived\"] = 0\n",
    "test_data.loc[test_data[\"fare\"] > 9 , \"survived\"] = 1\n"
   ]
  },
  {
   "cell_type": "code",
   "execution_count": null,
   "metadata": {
    "collapsed": true
   },
   "outputs": [],
   "source": [
    "from utils import accuracy_score\n",
    "# Compute the accuracy of your first predicter\n",
    "print \"Current accuracy: %f\" % accuracy_score(test_data)"
   ]
  }
 ],
 "metadata": {
  "kernelspec": {
   "display_name": "Python 3",
   "language": "python",
   "name": "python3"
  },
  "language_info": {
   "codemirror_mode": {
    "name": "ipython",
    "version": 3
   },
   "file_extension": ".py",
   "mimetype": "text/x-python",
   "name": "python",
   "nbconvert_exporter": "python",
   "pygments_lexer": "ipython3",
   "version": "3.6.3"
  }
 },
 "nbformat": 4,
 "nbformat_minor": 1
}
